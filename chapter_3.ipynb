{
 "cells": [
  {
   "cell_type": "code",
   "execution_count": 8,
   "metadata": {},
   "outputs": [],
   "source": [
    "import pandas as pd\n",
    "import numpy as np"
   ]
  },
  {
   "cell_type": "code",
   "execution_count": 9,
   "metadata": {},
   "outputs": [
    {
     "name": "stdout",
     "output_type": "stream",
     "text": [
      "0.9800000000000001\n"
     ]
    }
   ],
   "source": [
    "# def neural_network(input,weight):\n",
    "#     prediction = input*weight\n",
    "#     return np.sum(prediction)\n",
    "\n",
    "def neural_network(input,weights):\n",
    "    prediction = input.dot(weights)\n",
    "    return prediction\n",
    "\n",
    "# number_of_toes = np.array([0.85,1.2,0.45])\n",
    "# weights = np.array([0.1, 0.2, 0])\n",
    "# predicted = neural_network(number_of_toes,weights)\n",
    "# print(predicted)\n",
    "\n",
    "weights = np.array([0.1, 0.2, 0])\n",
    "toes = np.array([8.5, 9.5, 9.9, 9.0]) \n",
    "wlrec = np.array([0.65, 0.8, 0.8, 0.9]) \n",
    "nfans = np.array([1.2, 1.3, 0.5, 1.0]) \n",
    "input = np.array([toes[0],wlrec[0],nfans[0]])\n",
    "pred = neural_network(input,weights) \n",
    "print(pred)"
   ]
  },
  {
   "cell_type": "code",
   "execution_count": 10,
   "metadata": {},
   "outputs": [
    {
     "name": "stdout",
     "output_type": "stream",
     "text": [
      "[5.525, 7.6000000000000005, 7.920000000000001, 8.1]\n",
      "[9.15, 10.3, 10.700000000000001, 9.9]\n",
      "36.9\n",
      "9.225\n",
      "341.51\n"
     ]
    }
   ],
   "source": [
    "def elementwise_multiplication(vec_a, vec_b):\n",
    "    if len(vec_a) == len(vec_b):\n",
    "        all = []\n",
    "        for i in range(len(vec_a)):\n",
    "            store = vec_a[i]*vec_b[i]\n",
    "            all.append(store)\n",
    "    return all\n",
    "\n",
    "toes = [8.5, 9.5, 9.9, 9.0] \n",
    "wlrec = [0.65, 0.8, 0.8, 0.9] \n",
    "stored_mul = elementwise_multiplication(toes,wlrec)\n",
    "print(stored_mul)\n",
    "\n",
    "def elementwise_addition(vec_a, vec_b):\n",
    "    if len(vec_a) == len(vec_b):\n",
    "        all = []\n",
    "        for i in range(len(vec_a)):\n",
    "            store = vec_a[i]+vec_b[i]\n",
    "            all.append(store)\n",
    "    return all\n",
    "\n",
    "stored_add = elementwise_addition(toes,wlrec)\n",
    "print(stored_add)\n",
    "\n",
    "def vector_sum(vec_a):\n",
    "    output = 0\n",
    "    for i in range(len(vec_a)):\n",
    "        output = output + vec_a[i]\n",
    "    return output\n",
    "\n",
    "vector_sum_var = vector_sum(toes)\n",
    "print(vector_sum_var)\n",
    "\n",
    "def vector_average(vec_a):\n",
    "    avg = np.average(vec_a)\n",
    "    return avg\n",
    "\n",
    "\n",
    "vector_sum_avg = vector_average(toes)\n",
    "print(vector_sum_avg)\n",
    "\n",
    "def dot_product(vec_a,vec_b):\n",
    "    output = elementwise_multiplication(vec_a,vec_a)\n",
    "    dot_prod = vector_sum(output)\n",
    "    return dot_prod\n",
    "\n",
    "dot_prod = dot_product(toes,wlrec)\n",
    "print(dot_prod)"
   ]
  },
  {
   "cell_type": "code",
   "execution_count": 41,
   "metadata": {},
   "outputs": [
    {
     "name": "stdout",
     "output_type": "stream",
     "text": [
      "[ 0.1  0.1 -0.3]\n",
      "---\n",
      "[0.1 0.2 0. ]\n",
      "---\n",
      "[0.  1.3 0.1]\n",
      "---\n"
     ]
    },
    {
     "data": {
      "text/plain": [
       "[0.5550000000000002, 0.9800000000000001, 0.9650000000000001]"
      ]
     },
     "execution_count": 41,
     "metadata": {},
     "output_type": "execute_result"
    }
   ],
   "source": [
    "## multiple inputs multiple outputs\n",
    " # toes % win # fans\n",
    "weights = np.array([ [0.1, 0.1, -0.3],# hurt?\n",
    " [0.1, 0.2, 0.0], # win?\n",
    " [0.0, 1.3, 0.1] ])# sad?\n",
    "\n",
    "\n",
    "def vect_mat_mul(input,weights):\n",
    "    output = [0,0,0]\n",
    "    for i in range(len(weights)):\n",
    "        temp = input.dot(weights[i])\n",
    "        output[i] = temp\n",
    "    return output\n",
    "\n",
    "\n",
    "def neural_network(input, weights):\n",
    "    pred = vect_mat_mul(input,weights)\n",
    "    return pred\n",
    "\n",
    "toes = [8.5, 9.5, 9.9, 9.0]\n",
    "wlrec = [0.65,0.8, 0.8, 0.9]\n",
    "nfans = [1.2, 1.3, 0.5, 1.0]\n",
    "input = np.array([toes[0],wlrec[0],nfans[0]])\n",
    "pred = neural_network(input,weights)\n",
    "pred"
   ]
  },
  {
   "cell_type": "code",
   "execution_count": 47,
   "metadata": {},
   "outputs": [
    {
     "data": {
      "text/plain": [
       "[0.21349999999999986, 0.14500000000000002, 0.5065]"
      ]
     },
     "execution_count": 47,
     "metadata": {},
     "output_type": "execute_result"
    }
   ],
   "source": [
    "## Network stacking\n",
    "\n",
    "\n",
    "def vect_mat_mul(input,weights):\n",
    "    output = [0,0,0]\n",
    "    for i in range(len(weights)):\n",
    "        temp = input.dot(weights[i])\n",
    "        output[i] = temp\n",
    "    return output\n",
    "\n",
    "\n",
    " # toes % win # fans\n",
    "ih_wgt =np.array( [ [0.1, 0.2, -0.1], # hid[0]\n",
    " [-0.1,0.1, 0.9], # hid[1]\n",
    " [0.1, 0.4, 0.1] ]) # hid[2]\n",
    "\n",
    "\n",
    " #hid[0] hid[1] hid[2]\n",
    "hp_wgt =np.array( [ [0.3, 1.1, -0.3], # hurt?\n",
    " [0.1, 0.2, 0.0], # win?\n",
    " [0.0, 1.3, 0.1] ]) # sad?\n",
    "\n",
    "weights = np.array([ih_wgt, hp_wgt])\n",
    "\n",
    "def neural_network(input, weights):\n",
    "    hid = vect_mat_mul(input,weights[0])\n",
    "    pred = vect_mat_mul(np.array(hid),weights[1]) \n",
    "    return pred\n",
    "\n",
    "toes = [8.5, 9.5, 9.9, 9.0]\n",
    "wlrec = [0.65,0.8, 0.8, 0.9]\n",
    "nfans = [1.2, 1.3, 0.5, 1.0]\n",
    "input = np.array([toes[0],wlrec[0],nfans[0]])\n",
    "pred = neural_network(input,weights)\n",
    "pred"
   ]
  },
  {
   "cell_type": "code",
   "execution_count": 48,
   "metadata": {},
   "outputs": [
    {
     "name": "stdout",
     "output_type": "stream",
     "text": [
      "[0 1 2 3]\n",
      "[4 5 6 7]\n",
      "[[0 1 2 3]\n",
      " [4 5 6 7]]\n",
      "[[0. 0. 0. 0.]\n",
      " [0. 0. 0. 0.]]\n",
      "[[0.0314152  0.49153458 0.77185952 0.50915614 0.60650144]\n",
      " [0.65231725 0.5419614  0.31246863 0.80359036 0.9700735 ]]\n"
     ]
    }
   ],
   "source": [
    "## Numpy\n",
    "import numpy as np\n",
    "a = np.array([0,1,2,3]) \n",
    "b = np.array([4,5,6,7]) \n",
    "c = np.array([[0,1,2,3],\n",
    " [4,5,6,7]])\n",
    "d = np.zeros((2,4)) \n",
    "e = np.random.rand(2,5)\n",
    "print(a)\n",
    "print(b)\n",
    "print(c)\n",
    "print(d)\n",
    "print(e)"
   ]
  },
  {
   "cell_type": "code",
   "execution_count": 50,
   "metadata": {},
   "outputs": [
    {
     "name": "stdout",
     "output_type": "stream",
     "text": [
      "[0.  0.1 0.2 0.3]\n",
      "----\n",
      "[[0.  0.2 0.4 0.6]\n",
      " [0.8 1.  1.2 1.4]]\n",
      "----\n",
      "[ 0  5 12 21]\n",
      "----\n",
      "[0.  1.  2.4 4.2]\n",
      "----\n",
      "[[ 0  1  4  9]\n",
      " [ 0  5 12 21]]\n",
      "----\n"
     ]
    },
    {
     "ename": "ValueError",
     "evalue": "operands could not be broadcast together with shapes (4,) (2,5) ",
     "output_type": "error",
     "traceback": [
      "\u001b[1;31m---------------------------------------------------------------------------\u001b[0m",
      "\u001b[1;31mValueError\u001b[0m                                Traceback (most recent call last)",
      "Cell \u001b[1;32mIn[50], line 16\u001b[0m\n\u001b[0;32m     13\u001b[0m \u001b[38;5;28mprint\u001b[39m(a \u001b[38;5;241m*\u001b[39m c)\n\u001b[0;32m     14\u001b[0m \u001b[38;5;28mprint\u001b[39m(\u001b[38;5;124m\"\u001b[39m\u001b[38;5;124m----\u001b[39m\u001b[38;5;124m\"\u001b[39m)\n\u001b[1;32m---> 16\u001b[0m \u001b[38;5;28mprint\u001b[39m(\u001b[43ma\u001b[49m\u001b[43m \u001b[49m\u001b[38;5;241;43m*\u001b[39;49m\u001b[43m \u001b[49m\u001b[43me\u001b[49m) \n\u001b[0;32m     17\u001b[0m \u001b[38;5;28mprint\u001b[39m(\u001b[38;5;124m\"\u001b[39m\u001b[38;5;124m----\u001b[39m\u001b[38;5;124m\"\u001b[39m)\n",
      "\u001b[1;31mValueError\u001b[0m: operands could not be broadcast together with shapes (4,) (2,5) "
     ]
    }
   ],
   "source": [
    "print(a * 0.1) \n",
    "print(\"----\")\n",
    "\n",
    "print(c * 0.2) \n",
    "print(\"----\")\n",
    "\n",
    "print(a * b) \n",
    "print(\"----\")\n",
    "\n",
    "print(a * b * 0.2)\n",
    "print(\"----\")\n",
    "\n",
    "print(a * c)\n",
    "print(\"----\")\n",
    "\n",
    "print(a * e) \n",
    "print(\"----\")\n"
   ]
  },
  {
   "cell_type": "code",
   "execution_count": 51,
   "metadata": {},
   "outputs": [
    {
     "name": "stdout",
     "output_type": "stream",
     "text": [
      "(4, 6)\n"
     ]
    }
   ],
   "source": [
    "# [1,1,1,1]\n",
    "# #1x4\n",
    "\n",
    "# #4x3\n",
    "# [[1,1,1,1],\n",
    "# [1,1,1,1],\n",
    "# [1,1,1,1]]\n",
    "\n",
    "h = np.zeros((5,4)).T \n",
    "i = np.zeros((5,6)) \n",
    "j = h.dot(i)\n",
    "print(j.shape)\n"
   ]
  },
  {
   "cell_type": "code",
   "execution_count": null,
   "metadata": {},
   "outputs": [],
   "source": []
  }
 ],
 "metadata": {
  "kernelspec": {
   "display_name": "courses",
   "language": "python",
   "name": "python3"
  },
  "language_info": {
   "codemirror_mode": {
    "name": "ipython",
    "version": 3
   },
   "file_extension": ".py",
   "mimetype": "text/x-python",
   "name": "python",
   "nbconvert_exporter": "python",
   "pygments_lexer": "ipython3",
   "version": "3.10.14"
  }
 },
 "nbformat": 4,
 "nbformat_minor": 2
}
