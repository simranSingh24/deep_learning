{
 "cells": [
  {
   "cell_type": "code",
   "execution_count": 1,
   "metadata": {},
   "outputs": [],
   "source": [
    "import numpy as np"
   ]
  },
  {
   "cell_type": "code",
   "execution_count": 16,
   "metadata": {},
   "outputs": [
    {
     "name": "stdout",
     "output_type": "stream",
     "text": [
      "Error:0.7224999999999999 Prediction:0.05\n",
      "Error:0.718892015625 Prediction:0.052125000000000005\n",
      "Error:0.7153020486219727 Prediction:0.054244687500000006\n",
      "Error:0.7117300090166667 Prediction:0.056359075781250004\n",
      "Error:0.7081758072841399 Prediction:0.05846817809179688\n",
      "Error:0.7046393543465146 Prediction:0.06057200764656739\n",
      "Error:0.7011205615707466 Prediction:0.06267057762745097\n",
      "Error:0.6976193407664026 Prediction:0.06476390118338235\n",
      "Error:0.6941356041834505 Prediction:0.06685199143042389\n",
      "Error:0.6906692645100595 Prediction:0.06893486145184784\n",
      "Error:0.6872202348704122 Prediction:0.07101252429821822\n",
      "Error:0.6837884288225281 Prediction:0.07308499298747267\n",
      "Error:0.6803737603560956 Prediction:0.075152280505004\n",
      "Error:0.6769761438903175 Prediction:0.07721439980374149\n",
      "Error:0.673595494271765 Prediction:0.07927136380423214\n",
      "Error:0.6702317267722456 Prediction:0.08132318539472155\n",
      "Error:0.6668847570866767 Prediction:0.08336987743123475\n",
      "Error:0.6635545013309749 Prediction:0.08541145273765667\n",
      "Error:0.6602408760399535 Prediction:0.08744792410581254\n",
      "Error:0.656943798165229 Prediction:0.089479304295548\n"
     ]
    }
   ],
   "source": [
    "weight = 0.1\n",
    "input = 0.5\n",
    "goal = 0.9\n",
    "alpha = 0.01\n",
    "for i in range(20):\n",
    "    pred = input * weight\n",
    "    error = (pred - goal)** 2\n",
    "    delta = (pred - goal)\n",
    "    weighted_delta = delta*input\n",
    "    weight = weight - weighted_delta*alpha\n",
    "    print(\"Error:\" + str(error) + \" Prediction:\" + str(pred))"
   ]
  },
  {
   "cell_type": "code",
   "execution_count": 9,
   "metadata": {},
   "outputs": [
    {
     "name": "stdout",
     "output_type": "stream",
     "text": [
      "Epoch 1: Error = 0.17458, Prediction = 0.48217, Weights = [0.10319, 0.20319, 0.30319]\n",
      "Epoch 2: Error = 0.16874, Prediction = 0.48922, Weights = [0.10632, 0.20632, 0.30632]\n",
      "Epoch 3: Error = 0.16309, Prediction = 0.49615, Weights = [0.1094, 0.2094, 0.3094]\n",
      "Epoch 4: Error = 0.15763, Prediction = 0.50297, Weights = [0.11243, 0.21243, 0.31243]\n",
      "Epoch 5: Error = 0.15236, Prediction = 0.50967, Weights = [0.11541, 0.21541, 0.31541]\n",
      "Epoch 6: Error = 0.14726, Prediction = 0.51626, Weights = [0.11834, 0.21834, 0.31834]\n",
      "Epoch 7: Error = 0.14233, Prediction = 0.52273, Weights = [0.12121, 0.22121, 0.32121]\n",
      "Epoch 8: Error = 0.13757, Prediction = 0.52910, Weights = [0.12404, 0.22404, 0.32404]\n",
      "Epoch 9: Error = 0.13296, Prediction = 0.53536, Weights = [0.12683, 0.22683, 0.32683]\n",
      "Epoch 10: Error = 0.12851, Prediction = 0.54151, Weights = [0.12956, 0.22956, 0.32956]\n",
      "Epoch 11: Error = 0.12421, Prediction = 0.54756, Weights = [0.13225, 0.23225, 0.33225]\n",
      "Epoch 12: Error = 0.12006, Prediction = 0.55351, Weights = [0.13489, 0.23489, 0.33489]\n",
      "Epoch 13: Error = 0.11604, Prediction = 0.55935, Weights = [0.13749, 0.23749, 0.33749]\n",
      "Epoch 14: Error = 0.11216, Prediction = 0.56510, Weights = [0.14005, 0.24005, 0.34005]\n",
      "Epoch 15: Error = 0.10840, Prediction = 0.57075, Weights = [0.14256, 0.24256, 0.34256]\n",
      "Epoch 16: Error = 0.10477, Prediction = 0.57631, Weights = [0.14503, 0.24503, 0.34503]\n",
      "Epoch 17: Error = 0.10127, Prediction = 0.58177, Weights = [0.14745, 0.24745, 0.34745]\n",
      "Epoch 18: Error = 0.09788, Prediction = 0.58714, Weights = [0.14984, 0.24984, 0.34984]\n",
      "Epoch 19: Error = 0.09460, Prediction = 0.59242, Weights = [0.15219, 0.25219, 0.35219]\n",
      "Epoch 20: Error = 0.09144, Prediction = 0.59761, Weights = [0.15449, 0.25449, 0.35449]\n"
     ]
    }
   ],
   "source": [
    "weights = [0.1, 0.2, 0.3]  # Initial weights (one for each input)\n",
    "inputs = [0.5, 1.0, 0.75]  # Multiple input values\n",
    "goal = 0.9  # Target output\n",
    "alpha = 0.01  # Learning rate\n",
    "epochs = 20  # Number of iterations\n",
    "\n",
    "for epoch in range(epochs):\n",
    "    total_weighted_deltas = [0] * len(weights)  # Accumulate gradients for all weights\n",
    "\n",
    "    # Compute gradients for each input\n",
    "    for inp, weight in zip(inputs, weights):\n",
    "        pred = sum(w * x for w, x in zip(weights, inputs))  # Compute prediction (linear combination)\n",
    "        delta = (pred - goal)  # Error gradient\n",
    "        weighted_delta = delta * inp  # Scale by input\n",
    "        total_weighted_deltas = [tw + wd for tw, wd in zip(total_weighted_deltas, [weighted_delta] * len(weights))]\n",
    "\n",
    "    # Update all weights using the average gradient\n",
    "    weights = [w - (tw / len(inputs)) * alpha for w, tw in zip(weights, total_weighted_deltas)]\n",
    "\n",
    "    # Compute new prediction and error after update\n",
    "    pred = sum(w * x for w, x in zip(weights, inputs))\n",
    "    error = (pred - goal) ** 2\n",
    "\n",
    "    print(f\"Epoch {epoch+1}: Error = {error:.5f}, Prediction = {pred:.5f}, Weights = {[round(w, 5) for w in weights]}\")\n"
   ]
  },
  {
   "cell_type": "code",
   "execution_count": 31,
   "metadata": {},
   "outputs": [
    {
     "name": "stdout",
     "output_type": "stream",
     "text": [
      "[ 0.    -0.091 -0.168]\n",
      "[ 0.1      0.20091 -0.09832]\n",
      "Error:0.01959999999999997 Prediction:0.8600000000000001\n",
      "[ 0.         -0.08930512 -0.164871  ]\n",
      "[ 0.1         0.20180305 -0.09667129]\n",
      "Error:0.018876699056249977 Prediction:0.8626075000000001\n"
     ]
    }
   ],
   "source": [
    "toes = [8.5 , 9.5, 9.9, 9.0]\n",
    "wlrec = [0.65, 0.8, 0.8, 0.9]\n",
    "nfans = [1.2 , 1.3, 0.5, 1.0]\n",
    "win_or_lose_binary = [1, 1, 0, 1]\n",
    "true = win_or_lose_binary[0]\n",
    "input = np.array([toes[0],wlrec[0],nfans[0]])\n",
    "weights = np.array([0.1, 0.2, -.1]) \n",
    "\n",
    "\n",
    "def neural_network(input, weights):\n",
    "    output = input.dot(weights)\n",
    "    return output\n",
    "# pred = neural_network(input,weights)\n",
    "# pred\n",
    "alpha = 0.01\n",
    "for i in range(2):\n",
    "    pred = neural_network(input,weights)\n",
    "    error = (pred - true)**2\n",
    "    delta = (pred - true)\n",
    "    weighted_delta = delta*input\n",
    "    weighted_delta[0] = 0 ## freezing one weight\n",
    "    weights = weights - weighted_delta*alpha\n",
    "    print(weighted_delta)\n",
    "    print(weights)\n",
    "    print(\"Error:\" + str(error) + \" Prediction:\" + str(pred))"
   ]
  },
  {
   "cell_type": "code",
   "execution_count": null,
   "metadata": {},
   "outputs": [],
   "source": []
  }
 ],
 "metadata": {
  "kernelspec": {
   "display_name": "courses",
   "language": "python",
   "name": "python3"
  },
  "language_info": {
   "codemirror_mode": {
    "name": "ipython",
    "version": 3
   },
   "file_extension": ".py",
   "mimetype": "text/x-python",
   "name": "python",
   "nbconvert_exporter": "python",
   "pygments_lexer": "ipython3",
   "version": "3.10.14"
  }
 },
 "nbformat": 4,
 "nbformat_minor": 2
}
